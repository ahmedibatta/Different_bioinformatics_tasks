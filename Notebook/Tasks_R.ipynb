{
  "nbformat": 4,
  "nbformat_minor": 0,
  "metadata": {
    "colab": {
      "provenance": []
    },
    "kernelspec": {
      "name": "ir",
      "display_name": "R"
    },
    "language_info": {
      "name": "R"
    }
  },
  "cells": [
    {
      "cell_type": "markdown",
      "source": [
        "# Task 1"
      ],
      "metadata": {
        "id": "JAbP2ICbgIEK"
      }
    },
    {
      "cell_type": "code",
      "source": [
        "library(dplyr)\n",
        "library(tidyr)\n",
        "library(data.table)"
      ],
      "metadata": {
        "id": "ku7S3z0HWPba"
      },
      "execution_count": null,
      "outputs": []
    },
    {
      "cell_type": "code",
      "source": [
        "# path to the gene_info file\n",
        "gene_info_file_path <- \"/content/Homo_sapiens.gene_info.gz\"\n",
        "\n",
        "# Read the tab-delimited file with gzip compression and get required columns\n",
        "gene_info_df <- fread(gene_info_file_path, sep='\\t', header=TRUE)[, .(GeneID, Symbol, Synonyms)]"
      ],
      "metadata": {
        "id": "UYTZ4XScPjws"
      },
      "execution_count": 2,
      "outputs": []
    },
    {
      "cell_type": "code",
      "source": [
        "head(gene_info_df)"
      ],
      "metadata": {
        "id": "SW0-A2brPwhQ",
        "colab": {
          "base_uri": "https://localhost:8080/",
          "height": 286
        },
        "outputId": "3f44bb74-0dff-4ea8-d6d6-b4740ce33cd4"
      },
      "execution_count": 3,
      "outputs": [
        {
          "output_type": "display_data",
          "data": {
            "text/html": [
              "<table class=\"dataframe\">\n",
              "<caption>A data.table: 6 × 3</caption>\n",
              "<thead>\n",
              "\t<tr><th scope=col>GeneID</th><th scope=col>Symbol</th><th scope=col>Synonyms</th></tr>\n",
              "\t<tr><th scope=col>&lt;int&gt;</th><th scope=col>&lt;chr&gt;</th><th scope=col>&lt;chr&gt;</th></tr>\n",
              "</thead>\n",
              "<tbody>\n",
              "\t<tr><td> 1</td><td>A1BG </td><td>A1B|ABG|GAB|HYST2477     </td></tr>\n",
              "\t<tr><td> 2</td><td>A2M  </td><td>A2MD|CPAMD5|FWP007|S863-7</td></tr>\n",
              "\t<tr><td> 3</td><td>A2MP1</td><td>A2MP                     </td></tr>\n",
              "\t<tr><td> 9</td><td>NAT1 </td><td>AAC1|MNAT|NAT-1|NATI     </td></tr>\n",
              "\t<tr><td>10</td><td>NAT2 </td><td>AAC2|NAT-2|PNAT          </td></tr>\n",
              "\t<tr><td>11</td><td>NATP </td><td>AACP|NATP1               </td></tr>\n",
              "</tbody>\n",
              "</table>\n"
            ],
            "text/markdown": "\nA data.table: 6 × 3\n\n| GeneID &lt;int&gt; | Symbol &lt;chr&gt; | Synonyms &lt;chr&gt; |\n|---|---|---|\n|  1 | A1BG  | A1B|ABG|GAB|HYST2477      |\n|  2 | A2M   | A2MD|CPAMD5|FWP007|S863-7 |\n|  3 | A2MP1 | A2MP                      |\n|  9 | NAT1  | AAC1|MNAT|NAT-1|NATI      |\n| 10 | NAT2  | AAC2|NAT-2|PNAT           |\n| 11 | NATP  | AACP|NATP1                |\n\n",
            "text/latex": "A data.table: 6 × 3\n\\begin{tabular}{lll}\n GeneID & Symbol & Synonyms\\\\\n <int> & <chr> & <chr>\\\\\n\\hline\n\t  1 & A1BG  & A1B\\textbar{}ABG\\textbar{}GAB\\textbar{}HYST2477     \\\\\n\t  2 & A2M   & A2MD\\textbar{}CPAMD5\\textbar{}FWP007\\textbar{}S863-7\\\\\n\t  3 & A2MP1 & A2MP                     \\\\\n\t  9 & NAT1  & AAC1\\textbar{}MNAT\\textbar{}NAT-1\\textbar{}NATI     \\\\\n\t 10 & NAT2  & AAC2\\textbar{}NAT-2\\textbar{}PNAT          \\\\\n\t 11 & NATP  & AACP\\textbar{}NATP1               \\\\\n\\end{tabular}\n",
            "text/plain": [
              "  GeneID Symbol Synonyms                 \n",
              "1  1     A1BG   A1B|ABG|GAB|HYST2477     \n",
              "2  2     A2M    A2MD|CPAMD5|FWP007|S863-7\n",
              "3  3     A2MP1  A2MP                     \n",
              "4  9     NAT1   AAC1|MNAT|NAT-1|NATI     \n",
              "5 10     NAT2   AAC2|NAT-2|PNAT          \n",
              "6 11     NATP   AACP|NATP1               "
            ]
          },
          "metadata": {}
        }
      ]
    },
    {
      "cell_type": "code",
      "source": [
        "print(head(gene_info_df))"
      ],
      "metadata": {
        "id": "mXzr8Q9PSFHr",
        "colab": {
          "base_uri": "https://localhost:8080/"
        },
        "outputId": "7cf04037-0c79-4c34-9e05-030d51ee5f93"
      },
      "execution_count": 4,
      "outputs": [
        {
          "output_type": "stream",
          "name": "stdout",
          "text": [
            "   GeneID Symbol                  Synonyms\n",
            "1:      1   A1BG      A1B|ABG|GAB|HYST2477\n",
            "2:      2    A2M A2MD|CPAMD5|FWP007|S863-7\n",
            "3:      3  A2MP1                      A2MP\n",
            "4:      9   NAT1      AAC1|MNAT|NAT-1|NATI\n",
            "5:     10   NAT2           AAC2|NAT-2|PNAT\n",
            "6:     11   NATP                AACP|NATP1\n"
          ]
        }
      ]
    },
    {
      "cell_type": "code",
      "source": [
        "# Separate items in the Synonyms column into new rows\n",
        "\n",
        "new_data1<-gene_info_df %>%\n",
        "  separate_rows(Synonyms, sep=\"\\\\|\")\n",
        "head(new_data1)"
      ],
      "metadata": {
        "id": "RclmIkKdVTKm",
        "colab": {
          "base_uri": "https://localhost:8080/",
          "height": 286
        },
        "outputId": "04b38e86-8bc6-4dc7-9fc3-6abbec6bb710"
      },
      "execution_count": 5,
      "outputs": [
        {
          "output_type": "display_data",
          "data": {
            "text/html": [
              "<table class=\"dataframe\">\n",
              "<caption>A tibble: 6 × 3</caption>\n",
              "<thead>\n",
              "\t<tr><th scope=col>GeneID</th><th scope=col>Symbol</th><th scope=col>Synonyms</th></tr>\n",
              "\t<tr><th scope=col>&lt;int&gt;</th><th scope=col>&lt;chr&gt;</th><th scope=col>&lt;chr&gt;</th></tr>\n",
              "</thead>\n",
              "<tbody>\n",
              "\t<tr><td>1</td><td>A1BG</td><td>A1B     </td></tr>\n",
              "\t<tr><td>1</td><td>A1BG</td><td>ABG     </td></tr>\n",
              "\t<tr><td>1</td><td>A1BG</td><td>GAB     </td></tr>\n",
              "\t<tr><td>1</td><td>A1BG</td><td>HYST2477</td></tr>\n",
              "\t<tr><td>2</td><td>A2M </td><td>A2MD    </td></tr>\n",
              "\t<tr><td>2</td><td>A2M </td><td>CPAMD5  </td></tr>\n",
              "</tbody>\n",
              "</table>\n"
            ],
            "text/markdown": "\nA tibble: 6 × 3\n\n| GeneID &lt;int&gt; | Symbol &lt;chr&gt; | Synonyms &lt;chr&gt; |\n|---|---|---|\n| 1 | A1BG | A1B      |\n| 1 | A1BG | ABG      |\n| 1 | A1BG | GAB      |\n| 1 | A1BG | HYST2477 |\n| 2 | A2M  | A2MD     |\n| 2 | A2M  | CPAMD5   |\n\n",
            "text/latex": "A tibble: 6 × 3\n\\begin{tabular}{lll}\n GeneID & Symbol & Synonyms\\\\\n <int> & <chr> & <chr>\\\\\n\\hline\n\t 1 & A1BG & A1B     \\\\\n\t 1 & A1BG & ABG     \\\\\n\t 1 & A1BG & GAB     \\\\\n\t 1 & A1BG & HYST2477\\\\\n\t 2 & A2M  & A2MD    \\\\\n\t 2 & A2M  & CPAMD5  \\\\\n\\end{tabular}\n",
            "text/plain": [
              "  GeneID Symbol Synonyms\n",
              "1 1      A1BG   A1B     \n",
              "2 1      A1BG   ABG     \n",
              "3 1      A1BG   GAB     \n",
              "4 1      A1BG   HYST2477\n",
              "5 2      A2M    A2MD    \n",
              "6 2      A2M    CPAMD5  "
            ]
          },
          "metadata": {}
        }
      ]
    },
    {
      "cell_type": "code",
      "source": [
        "# Mapping the Symbol to their Gene ID\n",
        "map_Symbol <- with(gene_info_df, setNames(GeneID, Symbol))\n",
        "\n",
        "# Mapping the Synonyms to their Gene ID\n",
        "map_Synonyms <- with(new_data1, setNames(GeneID, Synonyms))\n",
        "\n",
        "# combined two vectors with key as the gene name and value is the Gene ID\n",
        "map_Symbol_Synonyms_geneid <- c(map_Symbol, map_Synonyms)"
      ],
      "metadata": {
        "id": "8rqRvDtYZ1wz"
      },
      "execution_count": 6,
      "outputs": []
    },
    {
      "cell_type": "code",
      "source": [
        "map_Symbol_Synonyms_geneid[\"GAB\"]"
      ],
      "metadata": {
        "id": "zI9wnlnQfQ-M",
        "colab": {
          "base_uri": "https://localhost:8080/",
          "height": 34
        },
        "outputId": "d892e793-41f1-4fca-aa09-999d09b052ab"
      },
      "execution_count": 7,
      "outputs": [
        {
          "output_type": "display_data",
          "data": {
            "text/html": [
              "<strong>GAB:</strong> 1"
            ],
            "text/markdown": "**GAB:** 1",
            "text/latex": "\\textbf{GAB:} 1",
            "text/plain": [
              "GAB \n",
              "  1 "
            ]
          },
          "metadata": {}
        }
      ]
    },
    {
      "cell_type": "markdown",
      "source": [
        "# Task 2"
      ],
      "metadata": {
        "id": "CcdGJ0vbgPBt"
      }
    },
    {
      "cell_type": "code",
      "source": [
        "# Path to the gmt file\n",
        "input_gmt_path <- \"/content/h.all.v2023.1.Hs.symbols.gmt\"\n",
        "\n",
        "out_gmt_file <- \"output_file.gmt\"\n",
        "\n",
        "out_gmt_file <- file(out_gmt_file, \"w\")\n",
        "\n",
        "# Read the input gmt file line by line\n",
        "\n",
        "inp_file <- file(input_gmt_path, \"r\")\n",
        "\n",
        "while (length(line <- readLines(inp_file, n = 1, warn = FALSE)) > 0) {\n",
        "  pathway_info <- unlist(strsplit(line, \"\\t\"))\n",
        "\n",
        "  pathway_name <- pathway_info[1]\n",
        "  pathway_desc <- pathway_info[2]\n",
        "  gene_names <- pathway_info[-(1:2)]  # All subsequent values are gene names\n",
        "\n",
        "\n",
        "  entrez_ids <- sapply(gene_names, function(gene) {\n",
        "    if (gene %in% names(map_Symbol_Synonyms_geneid)) {\n",
        "      return(map_Symbol_Synonyms_geneid[[gene]])\n",
        "    } else {\n",
        "      return(gene)  # If Entrez ID not found, keep the original gene name\n",
        "    }\n",
        "  })\n",
        "\n",
        "  # Concatenate pathway information with entrez_ids\n",
        "  pathway_line <- c(pathway_name, pathway_desc, entrez_ids)\n",
        "\n",
        "  # Write updated pathway information to the output file\n",
        "  cat(paste(pathway_line, collapse = \"\\t\"), file = out_gmt_file, sep = \"\\n\")\n",
        "}\n",
        "\n",
        "close(inp_file)\n",
        "close(out_gmt_file)"
      ],
      "metadata": {
        "id": "8qskrNNugRcv"
      },
      "execution_count": 8,
      "outputs": []
    }
  ]
}